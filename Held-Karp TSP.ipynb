{
 "cells": [
  {
   "cell_type": "code",
   "execution_count": 8,
   "metadata": {},
   "outputs": [],
   "source": [
    "import numpy as np\n",
    "import pandas as pd\n"
   ]
  },
  {
   "cell_type": "code",
   "execution_count": 9,
   "metadata": {},
   "outputs": [],
   "source": [
    "data = [[0, 10, 11, 8, 16, 20],\n",
    "    [10, 0, 5, 4, 9, 6],\n",
    "    [11, 5, 0, 7, 11, 14],\n",
    "    [8, 4, 7, 0, 6, 15],\n",
    "    [16, 9, 11, 6, 0, 7],\n",
    "    [20, 6, 14, 15, 7, 0]]\n",
    "cities = ['A', 'B', 'C', 'D', 'E', 'F']\n",
    "df = pd.DataFrame(data, index=cities, columns=cities)\n",
    "\n",
    "cities_to_index = {\"A\":0,\"B\":1,\"C\":2,\"D\":3,\"E\":4,\"F\":5}\n",
    "\n",
    "def obtain_distance(city1, city2):\n",
    "    return df[city1][cities_to_index[city2]]\n"
   ]
  },
  {
   "cell_type": "code",
   "execution_count": 16,
   "metadata": {},
   "outputs": [
    {
     "data": {
      "text/plain": [
       "10"
      ]
     },
     "execution_count": 16,
     "metadata": {},
     "output_type": "execute_result"
    }
   ],
   "source": [
    "#stores values of all possible subproblems\n",
    "value_function = {}\n",
    "\n",
    "def held_karp_algo(list_of_cities):\n",
    "\n",
    "    "
   ]
  },
  {
   "cell_type": "code",
   "execution_count": null,
   "metadata": {},
   "outputs": [],
   "source": []
  }
 ],
 "metadata": {
  "kernelspec": {
   "display_name": "Python 3",
   "language": "python",
   "name": "python3"
  },
  "language_info": {
   "codemirror_mode": {
    "name": "ipython",
    "version": 3
   },
   "file_extension": ".py",
   "mimetype": "text/x-python",
   "name": "python",
   "nbconvert_exporter": "python",
   "pygments_lexer": "ipython3",
   "version": "3.9.6"
  },
  "orig_nbformat": 4
 },
 "nbformat": 4,
 "nbformat_minor": 2
}
