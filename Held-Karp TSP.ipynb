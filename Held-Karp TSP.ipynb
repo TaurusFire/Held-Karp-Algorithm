{
 "cells": [
  {
   "cell_type": "code",
   "execution_count": null,
   "metadata": {},
   "outputs": [],
   "source": [
    "#attempt at held-karp\n",
    "#falls short of actual dynamic programming"
   ]
  },
  {
   "cell_type": "code",
   "execution_count": 7,
   "metadata": {},
   "outputs": [],
   "source": [
    "#distance matrix \n",
    "distances = [[0, 10, 11, 8, 16, 20],\n",
    "            [10, 0, 5, 4, 9, 6],\n",
    "            [11, 5, 0, 7, 11, 14],\n",
    "            [8, 4, 7, 0, 6, 15],\n",
    "            [16, 9, 11, 6, 0, 7],\n",
    "            [20, 6, 14, 15, 7, 0]]\n",
    "\n",
    "cities = ['A', 'B', 'C', 'D', 'E', 'F']\n",
    "\n",
    "cities_to_index = {\"A\":0,\"B\":1,\"C\":2,\"D\":3,\"E\":4,\"F\":5}\n",
    "\n",
    "def obtain_distance(city1, city2):\n",
    "    return distances[cities_to_index[city1]][cities_to_index[city2]]       "
   ]
  },
  {
   "cell_type": "code",
   "execution_count": 53,
   "metadata": {},
   "outputs": [],
   "source": [
    "def evaluate_f(start_city, list_mediating_cities):\n",
    "    no_cities_to_visit = len(list_mediating_cities)\n",
    "    \n",
    "    #since distance from start_city to A through a city X is the sum of the distances from X to start_city and A.\n",
    "    if no_cities_to_visit == 1:\n",
    "        med_city = list_mediating_cities[0]\n",
    "        return obtain_distance(start_city, med_city) + obtain_distance(med_city, \"A\")\n",
    "    \n",
    "    #storing the values of f when iterating through the list of mediating cities\n",
    "    values_of_f = []\n",
    "\n",
    "    for i in range(no_cities_to_visit):\n",
    "        test_city = list_mediating_cities[i]\n",
    "        dist_btwn_start_and_test = obtain_distance(start_city, test_city)\n",
    "        cities_without_city_i = [city for city in list_mediating_cities if city != test_city]\n",
    "        possible_f = evaluate_f(start_city, cities_without_city_i)\n",
    "        #obtained a possible distance and value of f. need to compare this to all other possible ones.\n",
    "        #\"when i is some number, that is the one that gives us the minimum?\"\n",
    "\n",
    "        values_of_f.append(dist_btwn_start_and_test + possible_f)\n",
    "\n",
    "    #which index i gave us the best f in the loop?\n",
    "    min_index = values_of_f.index(min(values_of_f))\n",
    "    #then we can just obtain the city as\n",
    "    best_city = list_mediating_cities[min_index]\n",
    "    cities_without_best_city = [city for city in list_mediating_cities if city != best_city]\n",
    "    #and so we can evaluate f to be\n",
    "    return obtain_distance(start_city, best_city) + evaluate_f(start_city, cities_without_best_city)\n"
   ]
  },
  {
   "cell_type": "code",
   "execution_count": 54,
   "metadata": {},
   "outputs": [],
   "source": [
    "def obtain_best_city(start_city, list_mediating_cities):\n",
    "\n",
    "    no_cities_to_visit = len(list_mediating_cities)\n",
    "\n",
    "    if no_cities_to_visit == 0:\n",
    "        return start_city\n",
    "    \n",
    "    if no_cities_to_visit ==1:\n",
    "        return list_mediating_cities[0]\n",
    "\n",
    "    values = []\n",
    "    for i in range(no_cities_to_visit):\n",
    "        #want to evaluate all possible f to determine the best city\n",
    "        test_city = list_mediating_cities[i]\n",
    "        cities_without_test_city = [city for city in list_mediating_cities if city != test_city]\n",
    "        #compare to see which one is the best\n",
    "        f_value = evaluate_f(start_city, cities_without_test_city)\n",
    "        values.append(f_value)\n",
    "    min_index = values.index(min(values))\n",
    "    best_city = list_mediating_cities[min_index]\n",
    "    return best_city"
   ]
  },
  {
   "cell_type": "code",
   "execution_count": 76,
   "metadata": {},
   "outputs": [
    {
     "name": "stdout",
     "output_type": "stream",
     "text": [
      "['A']\n",
      "0\n",
      "['B', 'A']\n",
      "10\n",
      "['C', 'B', 'A']\n",
      "15\n",
      "['C', 'B', 'D', 'A']\n",
      "17\n",
      "['E', 'C', 'B', 'D', 'A']\n",
      "28\n",
      "['F', 'E', 'C', 'B', 'D', 'A']\n",
      "35\n"
     ]
    }
   ],
   "source": [
    "#now, increase size of problems by one and check best route by checking the order of best cities.\n",
    "#store value for that route\n",
    "#e.g. start with F. then store value for route of only F -> A\n",
    "#want to access dictionary as well to ensure you are not recalculating routes\n",
    "\n",
    "for i in range(6):\n",
    "    checking_cities = cities[:i+1]\n",
    "\n",
    "    #for this subgroup of cities, find the order of best cities to visit\n",
    "    order_cities = []\n",
    "    for j in range(len(checking_cities)):\n",
    "        #get the best city and add it to the array \n",
    "        order_city = obtain_best_city(checking_cities[0],checking_cities[1:])\n",
    "        order_cities.append(order_city)\n",
    "        #remove the best city and redo the \n",
    "        #now calculate distances\n",
    "        distance = 0\n",
    "\n",
    "        \n",
    "        \n",
    "        checking_cities = [city for city in checking_cities if city != order_city]\n",
    "    print(order_cities)\n",
    "\n",
    "    distance = 0\n",
    "    for k in range(len(order_cities)-1):\n",
    "        distance += obtain_distance(order_cities[k], order_cities[k+1])\n",
    "    print(distance)\n",
    "    \n",
    "\n",
    "    "
   ]
  }
 ],
 "metadata": {
  "kernelspec": {
   "display_name": "Python 3",
   "language": "python",
   "name": "python3"
  },
  "language_info": {
   "codemirror_mode": {
    "name": "ipython",
    "version": 3
   },
   "file_extension": ".py",
   "mimetype": "text/x-python",
   "name": "python",
   "nbconvert_exporter": "python",
   "pygments_lexer": "ipython3",
   "version": "3.9.16"
  },
  "orig_nbformat": 4
 },
 "nbformat": 4,
 "nbformat_minor": 2
}
