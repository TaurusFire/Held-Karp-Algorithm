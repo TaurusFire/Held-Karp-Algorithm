{
 "cells": [
  {
   "cell_type": "code",
   "execution_count": 2,
   "metadata": {},
   "outputs": [],
   "source": [
    "distances = [[0, 10, 11, 8, 16, 20],\n",
    "            [10, 0, 5, 4, 9, 6],\n",
    "            [11, 5, 0, 7, 11, 14],\n",
    "            [8, 4, 7, 0, 6, 15],\n",
    "            [16, 9, 11, 6, 0, 7],\n",
    "            [20, 6, 14, 15, 7, 0]]\n",
    "\n",
    "cities = ['0', '1', '2', '3', '4', '5']\n",
    "\n",
    "def obtain_distance(city1, city2):\n",
    "    return distances[int(city1)][int(city2)]\n",
    "    \n",
    "#stores shortest distance to home through route in key\n",
    "memo_table = dict()"
   ]
  },
  {
   "cell_type": "code",
   "execution_count": 8,
   "metadata": {},
   "outputs": [],
   "source": [
    "#function that implements HK. the home city is implemented as '0' here.\n",
    "def heldkarp(current_city, remaining_cities, memo_table):\n",
    "    #if there are no more returning cities, simply return the distance from current city to home.\n",
    "    if len(remaining_cities) == 0:\n",
    "        return obtain_distance(current_city, '0')\n",
    "         \n",
    "\n",
    "    #check if the remaining problem (from current city through remaining cities to 0) has already been solved\n",
    "    if (current_city, remaining_cities) in memo_table:\n",
    "        return memo_table[(current_city, remaining_cities)]\n",
    "    \n",
    "    min_distance = float('inf')\n",
    "\n",
    "    for test_city in remaining_cities:\n",
    "        #distance from current city to test city\n",
    "        dist_between_current_and_test = obtain_distance(current_city, test_city)\n",
    "        cities_without_test_city = [city for city in remaining_cities if city != test_city]\n",
    "        #add to cost function from smaller problem\n",
    "        calculated_distance = dist_between_current_and_test + heldkarp(test_city, tuple(cities_without_test_city), memo_table)\n",
    "\n",
    "        #if the smallest of checked cities so far, then make new minimum\n",
    "        if calculated_distance < min_distance:\n",
    "            min_distance = calculated_distance\n",
    "\n",
    "    memo_table[(current_city, remaining_cities)] = min_distance\n",
    "    return(min_distance)"
   ]
  },
  {
   "cell_type": "code",
   "execution_count": 10,
   "metadata": {},
   "outputs": [
    {
     "data": {
      "text/plain": [
       "26"
      ]
     },
     "execution_count": 10,
     "metadata": {},
     "output_type": "execute_result"
    }
   ],
   "source": [
    "#need the part where you increase the size of the problem? rather than just solving it outright\n",
    "heldkarp('0', ('1','2'), memo_table)"
   ]
  },
  {
   "cell_type": "code",
   "execution_count": 6,
   "metadata": {},
   "outputs": [
    {
     "data": {
      "text/plain": [
       "{('4', ('5',)): 27,\n",
       " ('5', ('4',)): 23,\n",
       " ('3', ('4', '5')): 33,\n",
       " ('3', ('5',)): 35,\n",
       " ('5', ('3',)): 23,\n",
       " ('4', ('3', '5')): 30,\n",
       " ('3', ('4',)): 22,\n",
       " ('4', ('3',)): 14,\n",
       " ('5', ('3', '4')): 21,\n",
       " ('2', ('3', '4', '5')): 35,\n",
       " ('2', ('4', '5')): 37,\n",
       " ('2', ('5',)): 34,\n",
       " ('5', ('2',)): 25,\n",
       " ('4', ('2', '5')): 32,\n",
       " ('2', ('4',)): 27,\n",
       " ('4', ('2',)): 22,\n",
       " ('5', ('2', '4')): 29,\n",
       " ('3', ('2', '4', '5')): 38,\n",
       " ('2', ('3', '5')): 37,\n",
       " ('3', ('2', '5')): 40,\n",
       " ('2', ('3',)): 15,\n",
       " ('3', ('2',)): 18,\n",
       " ('5', ('2', '3')): 29,\n",
       " ('4', ('2', '3', '5')): 36,\n",
       " ('2', ('3', '4')): 25,\n",
       " ('3', ('2', '4')): 28,\n",
       " ('4', ('2', '3')): 24,\n",
       " ('5', ('2', '3', '4')): 31,\n",
       " ('1', ('2', '3', '4', '5')): 37,\n",
       " ('1', ('3', '4', '5')): 27,\n",
       " ('1', ('4', '5')): 29,\n",
       " ('1', ('5',)): 26,\n",
       " ('5', ('1',)): 16,\n",
       " ('4', ('1', '5')): 23,\n",
       " ('1', ('4',)): 25,\n",
       " ('4', ('1',)): 19,\n",
       " ('5', ('1', '4')): 26,\n",
       " ('3', ('1', '4', '5')): 29,\n",
       " ('1', ('3', '5')): 29,\n",
       " ('3', ('1', '5')): 30,\n",
       " ('1', ('3',)): 12,\n",
       " ('3', ('1',)): 14,\n",
       " ('5', ('1', '3')): 18,\n",
       " ('4', ('1', '3', '5')): 25,\n",
       " ('1', ('3', '4')): 23,\n",
       " ('3', ('1', '4')): 25,\n",
       " ('4', ('1', '3')): 20,\n",
       " ('5', ('1', '3', '4')): 27,\n",
       " ('2', ('1', '3', '4', '5')): 32,\n",
       " ('1', ('2', '4', '5')): 35,\n",
       " ('2', ('1', '4', '5')): 34,\n",
       " ('1', ('2', '5')): 31,\n",
       " ('2', ('1', '5')): 30,\n",
       " ('1', ('2',)): 16,\n",
       " ('2', ('1',)): 15,\n",
       " ('5', ('1', '2')): 22,\n",
       " ('4', ('1', '2', '5')): 29,\n",
       " ('1', ('2', '4')): 31,\n",
       " ('2', ('1', '4')): 30,\n",
       " ('4', ('1', '2')): 25,\n",
       " ('5', ('1', '2', '4')): 32,\n",
       " ('3', ('1', '2', '4', '5')): 35,\n",
       " ('1', ('2', '3', '5')): 35,\n",
       " ('2', ('1', '3', '5')): 32,\n",
       " ('3', ('1', '2', '5')): 35,\n",
       " ('1', ('2', '3')): 20,\n",
       " ('2', ('1', '3')): 17,\n",
       " ('3', ('1', '2')): 20,\n",
       " ('5', ('1', '2', '3')): 26,\n",
       " ('4', ('1', '2', '3', '5')): 33,\n",
       " ('1', ('2', '3', '4')): 30,\n",
       " ('2', ('1', '3', '4')): 28,\n",
       " ('3', ('1', '2', '4')): 31,\n",
       " ('4', ('1', '2', '3')): 26,\n",
       " ('5', ('1', '2', '3', '4')): 33,\n",
       " ('0', ('1', '2', '3', '4', '5')): 43}"
      ]
     },
     "execution_count": 6,
     "metadata": {},
     "output_type": "execute_result"
    }
   ],
   "source": [
    "memo_table"
   ]
  }
 ],
 "metadata": {
  "kernelspec": {
   "display_name": "python",
   "language": "python",
   "name": "python3"
  },
  "language_info": {
   "codemirror_mode": {
    "name": "ipython",
    "version": 3
   },
   "file_extension": ".py",
   "mimetype": "text/x-python",
   "name": "python",
   "nbconvert_exporter": "python",
   "pygments_lexer": "ipython3",
   "version": "3.9.16"
  },
  "orig_nbformat": 4
 },
 "nbformat": 4,
 "nbformat_minor": 2
}
